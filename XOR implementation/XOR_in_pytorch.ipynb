{
  "nbformat": 4,
  "nbformat_minor": 0,
  "metadata": {
    "colab": {
      "provenance": []
    },
    "kernelspec": {
      "name": "python3",
      "display_name": "Python 3"
    },
    "language_info": {
      "name": "python"
    }
  },
  "cells": [
    {
      "cell_type": "markdown",
      "source": [
        "-a single hidden layer with 4 neurons"
      ],
      "metadata": {
        "id": "jy0XZ7qXjpTZ"
      }
    },
    {
      "cell_type": "code",
      "execution_count": 1,
      "metadata": {
        "id": "kmXKhyR5jkXD"
      },
      "outputs": [],
      "source": [
        "import torch\n",
        "from torch import nn"
      ]
    },
    {
      "cell_type": "code",
      "source": [
        "# Define training data (XOR truth table)\n",
        "inputs = torch.tensor([[0, 0], [0, 1], [1, 0], [1, 1]], dtype=torch.float)\n",
        "targets = torch.tensor([0, 1, 1, 0], dtype=torch.float)"
      ],
      "metadata": {
        "id": "hk36hNmIj8n3"
      },
      "execution_count": 2,
      "outputs": []
    },
    {
      "cell_type": "code",
      "source": [
        "# Model architecture\n",
        "class XOR(nn.Module):\n",
        "  def __init__(self):\n",
        "    super(XOR, self).__init__()\n",
        "    self.fc1 = nn.Linear(2, 4)  # Input layer with 2 neurons to hidden layer with 4 neurons\n",
        "    self.activation = nn.Sigmoid()  # Sigmoid activation function for hidden layer\n",
        "    self.fc2 = nn.Linear(4, 1)  # Hidden layer with 4 neurons to output layer with 1 neuron\n",
        "\n",
        "  def forward(self, x):\n",
        "    x = self.fc1(x)\n",
        "    x = self.activation(x)\n",
        "    x = self.fc2(x)\n",
        "    return torch.sigmoid(x)  # Sigmoid activation function for output layer"
      ],
      "metadata": {
        "id": "2RovqW8kj-RO"
      },
      "execution_count": 3,
      "outputs": []
    },
    {
      "cell_type": "code",
      "source": [
        "# Create the model and optimizer\n",
        "model = XOR()\n",
        "optimizer = torch.optim.SGD(model.parameters(), lr=0.1)  # SGD optimizer with learning rate 0.1\n"
      ],
      "metadata": {
        "id": "Cvi6oT2pkHs3"
      },
      "execution_count": 4,
      "outputs": []
    },
    {
      "cell_type": "code",
      "source": [
        "# Training loop\n",
        "for epoch in range(100000):\n",
        "  # Forward pass\n",
        "  outputs = model(inputs)\n",
        "  # Reshape target to match output size\n",
        "  targets_reshaped = targets.unsqueeze(dim=1)\n",
        "  # Calculate loss (mean squared error)\n",
        "  loss = torch.nn.functional.mse_loss(outputs, targets_reshaped)\n",
        "\n",
        "  # Backward pass and update weights\n",
        "  optimizer.zero_grad()\n",
        "  loss.backward()\n",
        "  optimizer.step()"
      ],
      "metadata": {
        "id": "ggZ-wKlokPo2"
      },
      "execution_count": 16,
      "outputs": []
    },
    {
      "cell_type": "code",
      "source": [
        "print(model.state_dict())"
      ],
      "metadata": {
        "colab": {
          "base_uri": "https://localhost:8080/"
        },
        "id": "xjB3i7GqlMR9",
        "outputId": "f5cfa022-60ad-4604-e4e9-d8fc54ef3ae4"
      },
      "execution_count": 8,
      "outputs": [
        {
          "output_type": "stream",
          "name": "stdout",
          "text": [
            "OrderedDict([('fc1.weight', tensor([[-0.0028,  0.6361],\n",
            "        [-0.0800, -0.3557],\n",
            "        [ 0.2645, -0.3963],\n",
            "        [-0.0905, -0.2817]])), ('fc1.bias', tensor([-0.3924, -0.4060,  0.2107, -0.5409])), ('fc2.weight', tensor([[-0.4093, -0.3060,  0.0430, -0.1384]])), ('fc2.bias', tensor([0.3256]))])\n"
          ]
        }
      ]
    },
    {
      "cell_type": "code",
      "source": [
        "# Test the model\n",
        "with torch.no_grad():\n",
        "  for i in range(4):\n",
        "    predicted_output = model(inputs[i])\n",
        "    print(f\"Input: {inputs[i]}, Predicted Output: {predicted_output.item():.4f}\")"
      ],
      "metadata": {
        "colab": {
          "base_uri": "https://localhost:8080/"
        },
        "id": "fn8br3F9lWxc",
        "outputId": "88e5d3e7-ac78-4170-fe81-1a307e621e8d"
      },
      "execution_count": 17,
      "outputs": [
        {
          "output_type": "stream",
          "name": "stdout",
          "text": [
            "Input: tensor([0., 0.]), Predicted Output: 0.0154\n",
            "Input: tensor([0., 1.]), Predicted Output: 0.9840\n",
            "Input: tensor([1., 0.]), Predicted Output: 0.9839\n",
            "Input: tensor([1., 1.]), Predicted Output: 0.0158\n"
          ]
        }
      ]
    }
  ]
}